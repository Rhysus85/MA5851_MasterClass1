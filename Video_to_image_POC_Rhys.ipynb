{
  "nbformat": 4,
  "nbformat_minor": 0,
  "metadata": {
    "colab": {
      "provenance": [],
      "authorship_tag": "ABX9TyP5DWrg/6BTZBIRPy1RgmjC",
      "include_colab_link": true
    },
    "kernelspec": {
      "name": "python3",
      "display_name": "Python 3"
    },
    "language_info": {
      "name": "python"
    }
  },
  "cells": [
    {
      "cell_type": "markdown",
      "metadata": {
        "id": "view-in-github",
        "colab_type": "text"
      },
      "source": [
        "<a href=\"https://colab.research.google.com/github/Rhysus85/MA5851_MasterClass1/blob/main/Video_to_image_POC_Rhys.ipynb\" target=\"_parent\"><img src=\"https://colab.research.google.com/assets/colab-badge.svg\" alt=\"Open In Colab\"/></a>"
      ]
    },
    {
      "cell_type": "code",
      "execution_count": 1,
      "metadata": {
        "id": "zieaq394b-_S",
        "colab": {
          "base_uri": "https://localhost:8080/"
        },
        "outputId": "373f6287-9168-444d-ce1c-719b41b3ea55"
      },
      "outputs": [
        {
          "output_type": "stream",
          "name": "stdout",
          "text": [
            "Not connected to a GPU\n"
          ]
        }
      ],
      "source": [
        "#Check if using GPU \n",
        "#google suggestion as I have set up a subscription to get dedicated GPUs\n",
        "gpu_info = !nvidia-smi\n",
        "gpu_info = '\\n'.join(gpu_info)\n",
        "if gpu_info.find('failed') >= 0:\n",
        "  print('Not connected to a GPU')\n",
        "else:\n",
        "  print(gpu_info)"
      ]
    },
    {
      "cell_type": "code",
      "source": [
        "#Check memory usage/availability\n",
        "#google suggestion as I have set up a subscription to get dedicated GPUs\n",
        "from psutil import virtual_memory\n",
        "ram_gb = virtual_memory().total / 1e9\n",
        "print('Your runtime has {:.1f} gigabytes of available RAM\\n'.format(ram_gb))\n",
        "\n",
        "if ram_gb < 20:\n",
        "  print('Not using a high-RAM runtime')\n",
        "else:\n",
        "  print('You are using a high-RAM runtime!')"
      ],
      "metadata": {
        "id": "ERckfQ9wczFN",
        "colab": {
          "base_uri": "https://localhost:8080/"
        },
        "outputId": "0753ee5d-8c73-4a0e-8a16-091e1cd15c5a"
      },
      "execution_count": 2,
      "outputs": [
        {
          "output_type": "stream",
          "name": "stdout",
          "text": [
            "Your runtime has 13.6 gigabytes of available RAM\n",
            "\n",
            "Not using a high-RAM runtime\n"
          ]
        }
      ]
    },
    {
      "cell_type": "code",
      "source": [
        "#mount drive to access data \n",
        "#I used my drive for the POC\n",
        "import os \n",
        "from google.colab import drive\n",
        "drive.mount('/content/drive',force_remount=True)"
      ],
      "metadata": {
        "id": "Zw2CCM6uczH2",
        "colab": {
          "base_uri": "https://localhost:8080/"
        },
        "outputId": "b086b5fe-fe13-400c-95a6-5246e934f7d3"
      },
      "execution_count": 3,
      "outputs": [
        {
          "output_type": "stream",
          "name": "stdout",
          "text": [
            "Mounted at /content/drive\n"
          ]
        }
      ]
    },
    {
      "cell_type": "code",
      "source": [
        "#set directory\n",
        "os.chdir('/content/drive/MyDrive/Ocean_Infinity')\n",
        "#os.listdir()\n",
        "\n",
        "#output is:\n",
        "#['Model',\n",
        "# 'Output',\n",
        "# 'Dataset',\n",
        "# 'Raw Video',\n",
        "# 'Raw Video Names.csv',\n",
        "# 'Raw Dataset']\n"
      ],
      "metadata": {
        "id": "W7OboXQpiZ1d"
      },
      "execution_count": 4,
      "outputs": []
    },
    {
      "cell_type": "markdown",
      "source": [
        "Process here is to take video, convert to images based on video fps and store in specific folder to match the visibility label."
      ],
      "metadata": {
        "id": "AOZfg4rYkcju"
      }
    },
    {
      "cell_type": "code",
      "source": [
        "#load libraries\n",
        "import cv2 \n",
        "import numpy as np\n",
        "from google.colab.patches import cv2_imshow #directed by google to reduce crashing\n",
        "import pandas as pd\n",
        "import csv\n",
        "import math\n",
        "from os.path import exists\n",
        "\n",
        "#libraries not yet used\n",
        "#from glob import glob\n",
        "#from tqdm import tqdm\n",
        "#import math   # for mathematical operations\n",
        "#import matplotlib.pyplot as plt    # for plotting the images\n",
        "#%matplotlib inline\n",
        "#from keras.preprocessing import image   # for preprocessing the images\n",
        "#import numpy as np    # for mathematical operations\n",
        "#from keras.utils import np_utils\n",
        "#from skimage.transform import resize   # for resizing images\n",
        "#from sklearn.model_selection import train_test_split\n",
        "\n"
      ],
      "metadata": {
        "id": "UzM8iXoGczM2"
      },
      "execution_count": 10,
      "outputs": []
    },
    {
      "cell_type": "code",
      "source": [
        "raw_video_path = './Raw Video/'\n",
        "raw_image_path = './Raw Dataset/'\n",
        "image_metadata_row = pd.DataFrame()     \n",
        "image_metadata = pd.DataFrame()"
      ],
      "metadata": {
        "id": "OUkMx9IKsZtC"
      },
      "execution_count": 6,
      "outputs": []
    },
    {
      "cell_type": "code",
      "source": [
        "image_cnt = 0\n",
        "#POC direct filepath\n",
        "poc_video = 'video_POC.mp4'\n",
        "\n",
        "#part of testing iterations, setting directory\n",
        "os.chdir('/content/drive/MyDrive/Ocean_Infinity')\n",
        "\n",
        "for path, subdirs, files in os.walk(raw_video_path):\n",
        "    #print(\"stage0\")\n",
        "    for name in files:\n",
        "      #print(\"stage1\")\n",
        "      #for POC only\n",
        "      if name == poc_video:\n",
        "        #print(\"status: Video found\")\n",
        "        cap = cv2.VideoCapture((os.path.join(path, name)))\n",
        "        #metadata for video\n",
        "        video_fps = cap.get(5)\n",
        "        video_width = cap.get(3)\n",
        "        video_height = cap.get(4)\n",
        "        video_name = name\n",
        "        video_path = path\n",
        "        video_size = math.trunc(os.path.getsize((os.path.join(path, name))))\n",
        "          #print('%.2f'%(file_byte/1000/1000),1) #file size in mb              \n",
        "        #create image output path\n",
        "        label= path.rsplit('/', 1)[1]\n",
        "        image_dataset_path = raw_image_path+label\n",
        "        #print(\"ready to go\")\n",
        "        \n",
        "        while(cap.isOpened()):\n",
        "          ret, frame = cap.read()\n",
        "          if ret == False:\n",
        "            break\n",
        "          frame_ID = cap.get(1)\n",
        "          try:\n",
        "            img_name = label+'_'+str(image_cnt)+'.jpg'\n",
        "            cv2.imwrite((image_dataset_path+'/'+img_name),frame)\n",
        "            image_cnt +=1   \n",
        "\n",
        "            #create metadata rows for excel extract\n",
        "            image_metadata_raw = [video_path,\n",
        "                                  video_size,\n",
        "                                  video_name,\n",
        "                                  video_fps,\n",
        "                                  video_width,\n",
        "                                  video_height,\n",
        "                                  image_dataset_path,\n",
        "                                  label,\n",
        "                                  frame_ID,\n",
        "                                  img_name\n",
        "                                  ]\n",
        "            image_metadata_row = pd.DataFrame(image_metadata_raw).T       \n",
        "            image_metadata = image_metadata.append(image_metadata_row)\n",
        "\n",
        "\n",
        "          except:\n",
        "            print(\"you have landed at an exception #1\")\n",
        "            continue\n",
        "\n",
        "        cap.release()\n",
        "        cv2.destroyAllWindows()\n",
        "              \n",
        "      else:\n",
        "        continue\n"
      ],
      "metadata": {
        "id": "PNrEIXb6OBjT"
      },
      "execution_count": 7,
      "outputs": []
    },
    {
      "cell_type": "code",
      "source": [
        "image_metadata"
      ],
      "metadata": {
        "colab": {
          "base_uri": "https://localhost:8080/",
          "height": 175
        },
        "id": "Gh6VOSq_c-H5",
        "outputId": "6e6c6fea-45d6-4cb7-dd96-eeb0273669a4"
      },
      "execution_count": 8,
      "outputs": [
        {
          "output_type": "execute_result",
          "data": {
            "text/plain": [
              "                 0       1              2     3       4       5  \\\n",
              "0  ./Raw Video/POC  212056  video_POC.mp4  30.0  1920.0  1080.0   \n",
              "0  ./Raw Video/POC  212056  video_POC.mp4  30.0  1920.0  1080.0   \n",
              "0  ./Raw Video/POC  212056  video_POC.mp4  30.0  1920.0  1080.0   \n",
              "0  ./Raw Video/POC  212056  video_POC.mp4  30.0  1920.0  1080.0   \n",
              "\n",
              "                   6    7    8          9  \n",
              "0  ./Raw Dataset/POC  POC  1.0  POC_0.jpg  \n",
              "0  ./Raw Dataset/POC  POC  2.0  POC_1.jpg  \n",
              "0  ./Raw Dataset/POC  POC  3.0  POC_2.jpg  \n",
              "0  ./Raw Dataset/POC  POC  4.0  POC_3.jpg  "
            ],
            "text/html": [
              "\n",
              "  <div id=\"df-7c3e2ab8-2a21-42b3-b106-167b8c55a882\">\n",
              "    <div class=\"colab-df-container\">\n",
              "      <div>\n",
              "<style scoped>\n",
              "    .dataframe tbody tr th:only-of-type {\n",
              "        vertical-align: middle;\n",
              "    }\n",
              "\n",
              "    .dataframe tbody tr th {\n",
              "        vertical-align: top;\n",
              "    }\n",
              "\n",
              "    .dataframe thead th {\n",
              "        text-align: right;\n",
              "    }\n",
              "</style>\n",
              "<table border=\"1\" class=\"dataframe\">\n",
              "  <thead>\n",
              "    <tr style=\"text-align: right;\">\n",
              "      <th></th>\n",
              "      <th>0</th>\n",
              "      <th>1</th>\n",
              "      <th>2</th>\n",
              "      <th>3</th>\n",
              "      <th>4</th>\n",
              "      <th>5</th>\n",
              "      <th>6</th>\n",
              "      <th>7</th>\n",
              "      <th>8</th>\n",
              "      <th>9</th>\n",
              "    </tr>\n",
              "  </thead>\n",
              "  <tbody>\n",
              "    <tr>\n",
              "      <th>0</th>\n",
              "      <td>./Raw Video/POC</td>\n",
              "      <td>212056</td>\n",
              "      <td>video_POC.mp4</td>\n",
              "      <td>30.0</td>\n",
              "      <td>1920.0</td>\n",
              "      <td>1080.0</td>\n",
              "      <td>./Raw Dataset/POC</td>\n",
              "      <td>POC</td>\n",
              "      <td>1.0</td>\n",
              "      <td>POC_0.jpg</td>\n",
              "    </tr>\n",
              "    <tr>\n",
              "      <th>0</th>\n",
              "      <td>./Raw Video/POC</td>\n",
              "      <td>212056</td>\n",
              "      <td>video_POC.mp4</td>\n",
              "      <td>30.0</td>\n",
              "      <td>1920.0</td>\n",
              "      <td>1080.0</td>\n",
              "      <td>./Raw Dataset/POC</td>\n",
              "      <td>POC</td>\n",
              "      <td>2.0</td>\n",
              "      <td>POC_1.jpg</td>\n",
              "    </tr>\n",
              "    <tr>\n",
              "      <th>0</th>\n",
              "      <td>./Raw Video/POC</td>\n",
              "      <td>212056</td>\n",
              "      <td>video_POC.mp4</td>\n",
              "      <td>30.0</td>\n",
              "      <td>1920.0</td>\n",
              "      <td>1080.0</td>\n",
              "      <td>./Raw Dataset/POC</td>\n",
              "      <td>POC</td>\n",
              "      <td>3.0</td>\n",
              "      <td>POC_2.jpg</td>\n",
              "    </tr>\n",
              "    <tr>\n",
              "      <th>0</th>\n",
              "      <td>./Raw Video/POC</td>\n",
              "      <td>212056</td>\n",
              "      <td>video_POC.mp4</td>\n",
              "      <td>30.0</td>\n",
              "      <td>1920.0</td>\n",
              "      <td>1080.0</td>\n",
              "      <td>./Raw Dataset/POC</td>\n",
              "      <td>POC</td>\n",
              "      <td>4.0</td>\n",
              "      <td>POC_3.jpg</td>\n",
              "    </tr>\n",
              "  </tbody>\n",
              "</table>\n",
              "</div>\n",
              "      <button class=\"colab-df-convert\" onclick=\"convertToInteractive('df-7c3e2ab8-2a21-42b3-b106-167b8c55a882')\"\n",
              "              title=\"Convert this dataframe to an interactive table.\"\n",
              "              style=\"display:none;\">\n",
              "        \n",
              "  <svg xmlns=\"http://www.w3.org/2000/svg\" height=\"24px\"viewBox=\"0 0 24 24\"\n",
              "       width=\"24px\">\n",
              "    <path d=\"M0 0h24v24H0V0z\" fill=\"none\"/>\n",
              "    <path d=\"M18.56 5.44l.94 2.06.94-2.06 2.06-.94-2.06-.94-.94-2.06-.94 2.06-2.06.94zm-11 1L8.5 8.5l.94-2.06 2.06-.94-2.06-.94L8.5 2.5l-.94 2.06-2.06.94zm10 10l.94 2.06.94-2.06 2.06-.94-2.06-.94-.94-2.06-.94 2.06-2.06.94z\"/><path d=\"M17.41 7.96l-1.37-1.37c-.4-.4-.92-.59-1.43-.59-.52 0-1.04.2-1.43.59L10.3 9.45l-7.72 7.72c-.78.78-.78 2.05 0 2.83L4 21.41c.39.39.9.59 1.41.59.51 0 1.02-.2 1.41-.59l7.78-7.78 2.81-2.81c.8-.78.8-2.07 0-2.86zM5.41 20L4 18.59l7.72-7.72 1.47 1.35L5.41 20z\"/>\n",
              "  </svg>\n",
              "      </button>\n",
              "      \n",
              "  <style>\n",
              "    .colab-df-container {\n",
              "      display:flex;\n",
              "      flex-wrap:wrap;\n",
              "      gap: 12px;\n",
              "    }\n",
              "\n",
              "    .colab-df-convert {\n",
              "      background-color: #E8F0FE;\n",
              "      border: none;\n",
              "      border-radius: 50%;\n",
              "      cursor: pointer;\n",
              "      display: none;\n",
              "      fill: #1967D2;\n",
              "      height: 32px;\n",
              "      padding: 0 0 0 0;\n",
              "      width: 32px;\n",
              "    }\n",
              "\n",
              "    .colab-df-convert:hover {\n",
              "      background-color: #E2EBFA;\n",
              "      box-shadow: 0px 1px 2px rgba(60, 64, 67, 0.3), 0px 1px 3px 1px rgba(60, 64, 67, 0.15);\n",
              "      fill: #174EA6;\n",
              "    }\n",
              "\n",
              "    [theme=dark] .colab-df-convert {\n",
              "      background-color: #3B4455;\n",
              "      fill: #D2E3FC;\n",
              "    }\n",
              "\n",
              "    [theme=dark] .colab-df-convert:hover {\n",
              "      background-color: #434B5C;\n",
              "      box-shadow: 0px 1px 3px 1px rgba(0, 0, 0, 0.15);\n",
              "      filter: drop-shadow(0px 1px 2px rgba(0, 0, 0, 0.3));\n",
              "      fill: #FFFFFF;\n",
              "    }\n",
              "  </style>\n",
              "\n",
              "      <script>\n",
              "        const buttonEl =\n",
              "          document.querySelector('#df-7c3e2ab8-2a21-42b3-b106-167b8c55a882 button.colab-df-convert');\n",
              "        buttonEl.style.display =\n",
              "          google.colab.kernel.accessAllowed ? 'block' : 'none';\n",
              "\n",
              "        async function convertToInteractive(key) {\n",
              "          const element = document.querySelector('#df-7c3e2ab8-2a21-42b3-b106-167b8c55a882');\n",
              "          const dataTable =\n",
              "            await google.colab.kernel.invokeFunction('convertToInteractive',\n",
              "                                                     [key], {});\n",
              "          if (!dataTable) return;\n",
              "\n",
              "          const docLinkHtml = 'Like what you see? Visit the ' +\n",
              "            '<a target=\"_blank\" href=https://colab.research.google.com/notebooks/data_table.ipynb>data table notebook</a>'\n",
              "            + ' to learn more about interactive tables.';\n",
              "          element.innerHTML = '';\n",
              "          dataTable['output_type'] = 'display_data';\n",
              "          await google.colab.output.renderOutput(dataTable, element);\n",
              "          const docLink = document.createElement('div');\n",
              "          docLink.innerHTML = docLinkHtml;\n",
              "          element.appendChild(docLink);\n",
              "        }\n",
              "      </script>\n",
              "    </div>\n",
              "  </div>\n",
              "  "
            ]
          },
          "metadata": {},
          "execution_count": 8
        }
      ]
    },
    {
      "cell_type": "code",
      "source": [
        "#do this at the end\n",
        "image_metadata.columns=['video_path',\n",
        "                                'video_size',\n",
        "                                'video_name',\n",
        "                                'video_fps',\n",
        "                                'video_width',\n",
        "                                'video_height',\n",
        "                                'image_dataset_path',\n",
        "                                'label',\n",
        "                                'frame_ID',\n",
        "                                'img_name'\n",
        "                                ]\n",
        "\n",
        "image_metadata"
      ],
      "metadata": {
        "colab": {
          "base_uri": "https://localhost:8080/",
          "height": 175
        },
        "id": "JJr6_srQTaYP",
        "outputId": "787ed403-cfa9-4509-8ea2-9eeb827369a4"
      },
      "execution_count": 9,
      "outputs": [
        {
          "output_type": "execute_result",
          "data": {
            "text/plain": [
              "        video_path video_size     video_name video_fps video_width  \\\n",
              "0  ./Raw Video/POC     212056  video_POC.mp4      30.0      1920.0   \n",
              "0  ./Raw Video/POC     212056  video_POC.mp4      30.0      1920.0   \n",
              "0  ./Raw Video/POC     212056  video_POC.mp4      30.0      1920.0   \n",
              "0  ./Raw Video/POC     212056  video_POC.mp4      30.0      1920.0   \n",
              "\n",
              "  video_height image_dataset_path label frame_ID   img_name  \n",
              "0       1080.0  ./Raw Dataset/POC   POC      1.0  POC_0.jpg  \n",
              "0       1080.0  ./Raw Dataset/POC   POC      2.0  POC_1.jpg  \n",
              "0       1080.0  ./Raw Dataset/POC   POC      3.0  POC_2.jpg  \n",
              "0       1080.0  ./Raw Dataset/POC   POC      4.0  POC_3.jpg  "
            ],
            "text/html": [
              "\n",
              "  <div id=\"df-52ba67fc-f3fb-4871-86a8-1314bb153ecd\">\n",
              "    <div class=\"colab-df-container\">\n",
              "      <div>\n",
              "<style scoped>\n",
              "    .dataframe tbody tr th:only-of-type {\n",
              "        vertical-align: middle;\n",
              "    }\n",
              "\n",
              "    .dataframe tbody tr th {\n",
              "        vertical-align: top;\n",
              "    }\n",
              "\n",
              "    .dataframe thead th {\n",
              "        text-align: right;\n",
              "    }\n",
              "</style>\n",
              "<table border=\"1\" class=\"dataframe\">\n",
              "  <thead>\n",
              "    <tr style=\"text-align: right;\">\n",
              "      <th></th>\n",
              "      <th>video_path</th>\n",
              "      <th>video_size</th>\n",
              "      <th>video_name</th>\n",
              "      <th>video_fps</th>\n",
              "      <th>video_width</th>\n",
              "      <th>video_height</th>\n",
              "      <th>image_dataset_path</th>\n",
              "      <th>label</th>\n",
              "      <th>frame_ID</th>\n",
              "      <th>img_name</th>\n",
              "    </tr>\n",
              "  </thead>\n",
              "  <tbody>\n",
              "    <tr>\n",
              "      <th>0</th>\n",
              "      <td>./Raw Video/POC</td>\n",
              "      <td>212056</td>\n",
              "      <td>video_POC.mp4</td>\n",
              "      <td>30.0</td>\n",
              "      <td>1920.0</td>\n",
              "      <td>1080.0</td>\n",
              "      <td>./Raw Dataset/POC</td>\n",
              "      <td>POC</td>\n",
              "      <td>1.0</td>\n",
              "      <td>POC_0.jpg</td>\n",
              "    </tr>\n",
              "    <tr>\n",
              "      <th>0</th>\n",
              "      <td>./Raw Video/POC</td>\n",
              "      <td>212056</td>\n",
              "      <td>video_POC.mp4</td>\n",
              "      <td>30.0</td>\n",
              "      <td>1920.0</td>\n",
              "      <td>1080.0</td>\n",
              "      <td>./Raw Dataset/POC</td>\n",
              "      <td>POC</td>\n",
              "      <td>2.0</td>\n",
              "      <td>POC_1.jpg</td>\n",
              "    </tr>\n",
              "    <tr>\n",
              "      <th>0</th>\n",
              "      <td>./Raw Video/POC</td>\n",
              "      <td>212056</td>\n",
              "      <td>video_POC.mp4</td>\n",
              "      <td>30.0</td>\n",
              "      <td>1920.0</td>\n",
              "      <td>1080.0</td>\n",
              "      <td>./Raw Dataset/POC</td>\n",
              "      <td>POC</td>\n",
              "      <td>3.0</td>\n",
              "      <td>POC_2.jpg</td>\n",
              "    </tr>\n",
              "    <tr>\n",
              "      <th>0</th>\n",
              "      <td>./Raw Video/POC</td>\n",
              "      <td>212056</td>\n",
              "      <td>video_POC.mp4</td>\n",
              "      <td>30.0</td>\n",
              "      <td>1920.0</td>\n",
              "      <td>1080.0</td>\n",
              "      <td>./Raw Dataset/POC</td>\n",
              "      <td>POC</td>\n",
              "      <td>4.0</td>\n",
              "      <td>POC_3.jpg</td>\n",
              "    </tr>\n",
              "  </tbody>\n",
              "</table>\n",
              "</div>\n",
              "      <button class=\"colab-df-convert\" onclick=\"convertToInteractive('df-52ba67fc-f3fb-4871-86a8-1314bb153ecd')\"\n",
              "              title=\"Convert this dataframe to an interactive table.\"\n",
              "              style=\"display:none;\">\n",
              "        \n",
              "  <svg xmlns=\"http://www.w3.org/2000/svg\" height=\"24px\"viewBox=\"0 0 24 24\"\n",
              "       width=\"24px\">\n",
              "    <path d=\"M0 0h24v24H0V0z\" fill=\"none\"/>\n",
              "    <path d=\"M18.56 5.44l.94 2.06.94-2.06 2.06-.94-2.06-.94-.94-2.06-.94 2.06-2.06.94zm-11 1L8.5 8.5l.94-2.06 2.06-.94-2.06-.94L8.5 2.5l-.94 2.06-2.06.94zm10 10l.94 2.06.94-2.06 2.06-.94-2.06-.94-.94-2.06-.94 2.06-2.06.94z\"/><path d=\"M17.41 7.96l-1.37-1.37c-.4-.4-.92-.59-1.43-.59-.52 0-1.04.2-1.43.59L10.3 9.45l-7.72 7.72c-.78.78-.78 2.05 0 2.83L4 21.41c.39.39.9.59 1.41.59.51 0 1.02-.2 1.41-.59l7.78-7.78 2.81-2.81c.8-.78.8-2.07 0-2.86zM5.41 20L4 18.59l7.72-7.72 1.47 1.35L5.41 20z\"/>\n",
              "  </svg>\n",
              "      </button>\n",
              "      \n",
              "  <style>\n",
              "    .colab-df-container {\n",
              "      display:flex;\n",
              "      flex-wrap:wrap;\n",
              "      gap: 12px;\n",
              "    }\n",
              "\n",
              "    .colab-df-convert {\n",
              "      background-color: #E8F0FE;\n",
              "      border: none;\n",
              "      border-radius: 50%;\n",
              "      cursor: pointer;\n",
              "      display: none;\n",
              "      fill: #1967D2;\n",
              "      height: 32px;\n",
              "      padding: 0 0 0 0;\n",
              "      width: 32px;\n",
              "    }\n",
              "\n",
              "    .colab-df-convert:hover {\n",
              "      background-color: #E2EBFA;\n",
              "      box-shadow: 0px 1px 2px rgba(60, 64, 67, 0.3), 0px 1px 3px 1px rgba(60, 64, 67, 0.15);\n",
              "      fill: #174EA6;\n",
              "    }\n",
              "\n",
              "    [theme=dark] .colab-df-convert {\n",
              "      background-color: #3B4455;\n",
              "      fill: #D2E3FC;\n",
              "    }\n",
              "\n",
              "    [theme=dark] .colab-df-convert:hover {\n",
              "      background-color: #434B5C;\n",
              "      box-shadow: 0px 1px 3px 1px rgba(0, 0, 0, 0.15);\n",
              "      filter: drop-shadow(0px 1px 2px rgba(0, 0, 0, 0.3));\n",
              "      fill: #FFFFFF;\n",
              "    }\n",
              "  </style>\n",
              "\n",
              "      <script>\n",
              "        const buttonEl =\n",
              "          document.querySelector('#df-52ba67fc-f3fb-4871-86a8-1314bb153ecd button.colab-df-convert');\n",
              "        buttonEl.style.display =\n",
              "          google.colab.kernel.accessAllowed ? 'block' : 'none';\n",
              "\n",
              "        async function convertToInteractive(key) {\n",
              "          const element = document.querySelector('#df-52ba67fc-f3fb-4871-86a8-1314bb153ecd');\n",
              "          const dataTable =\n",
              "            await google.colab.kernel.invokeFunction('convertToInteractive',\n",
              "                                                     [key], {});\n",
              "          if (!dataTable) return;\n",
              "\n",
              "          const docLinkHtml = 'Like what you see? Visit the ' +\n",
              "            '<a target=\"_blank\" href=https://colab.research.google.com/notebooks/data_table.ipynb>data table notebook</a>'\n",
              "            + ' to learn more about interactive tables.';\n",
              "          element.innerHTML = '';\n",
              "          dataTable['output_type'] = 'display_data';\n",
              "          await google.colab.output.renderOutput(dataTable, element);\n",
              "          const docLink = document.createElement('div');\n",
              "          docLink.innerHTML = docLinkHtml;\n",
              "          element.appendChild(docLink);\n",
              "        }\n",
              "      </script>\n",
              "    </div>\n",
              "  </div>\n",
              "  "
            ]
          },
          "metadata": {},
          "execution_count": 9
        }
      ]
    },
    {
      "cell_type": "code",
      "source": [
        "#create the image metadata file\n",
        "os.chdir('/content/drive/MyDrive/Ocean_Infinity')\n",
        "filename = 'image_metadata.csv'\n",
        "\n",
        "if os.path.exists(filename):\n",
        "  image_metadata.to_csv(filename, mode='a', index=False, header=False)\n",
        "  print(\"added new rows of data\")\n",
        "else:\n",
        "  image_metadata.to_csv(filename, mode='a', index=False, header=True)\n",
        "  print(\"created new file\")\n"
      ],
      "metadata": {
        "id": "ZilXgNVmplce",
        "colab": {
          "base_uri": "https://localhost:8080/"
        },
        "outputId": "9e4b305f-2223-4890-c5e2-398f07a12744"
      },
      "execution_count": 11,
      "outputs": [
        {
          "output_type": "stream",
          "name": "stdout",
          "text": [
            "added new rows of data\n"
          ]
        }
      ]
    },
    {
      "cell_type": "code",
      "source": [],
      "metadata": {
        "id": "nK-N153Hple8"
      },
      "execution_count": null,
      "outputs": []
    },
    {
      "cell_type": "code",
      "source": [],
      "metadata": {
        "id": "hk1qITeJplhX"
      },
      "execution_count": null,
      "outputs": []
    }
  ]
}