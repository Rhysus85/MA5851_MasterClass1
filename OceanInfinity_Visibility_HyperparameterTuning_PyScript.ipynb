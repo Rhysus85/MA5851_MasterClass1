{
  "cells": [
    {
      "cell_type": "markdown",
      "metadata": {
        "id": "view-in-github",
        "colab_type": "text"
      },
      "source": [
        "<a href=\"https://colab.research.google.com/github/Rhysus85/MA5851_MasterClass1/blob/main/OceanInfinity_Visibility_HyperparameterTuning_PyScript.ipynb\" target=\"_parent\"><img src=\"https://colab.research.google.com/assets/colab-badge.svg\" alt=\"Open In Colab\"/></a>"
      ]
    },
    {
      "cell_type": "markdown",
      "source": [
        "This script looks at importing a model and tuning the hyperparameters to obtain the best architecture for the CNN."
      ],
      "metadata": {
        "id": "wLdHE4eJoQtJ"
      }
    },
    {
      "cell_type": "code",
      "execution_count": null,
      "metadata": {
        "id": "UzM8iXoGczM2"
      },
      "outputs": [],
      "source": [
        "import cv2 \n",
        "import numpy as np\n",
        "from google.colab.patches import cv2_imshow #directed by google to reduce crashing\n",
        "import pandas as pd\n",
        "import csv\n",
        "import math\n",
        "from os.path import exists\n",
        "import time\n",
        "\n",
        "import matplotlib.pyplot as plt    # for plotting the images\n",
        "from PIL import Image\n",
        "from imutils import paths\n",
        "from mpl_toolkits.axes_grid1 import ImageGrid\n",
        "\n",
        "import tensorflow as tf\n",
        "from tensorflow.keras.preprocessing.image import ImageDataGenerator\n",
        "from tensorflow.keras.losses import categorical_crossentropy\n",
        "from tensorflow.keras.utils import to_categorical\n",
        "from tensorflow.keras.optimizers import Adam\n",
        "from tensorflow.keras.models import Sequential\n",
        "from tensorflow.keras.layers import Conv2D, Dense, Dropout, Flatten, Input, MaxPooling2D, Activation, AveragePooling2D\n",
        "from tensorflow import keras\n",
        "from tensorflow.keras.models import Model\n",
        "\n",
        "from tensorflow.keras.utils import load_img\n",
        "from numpy import expand_dims\n",
        "\n",
        "#from keras.applications.imagenet_utils import decode_predictions\n",
        "from keras.applications.imagenet_utils import preprocess_input\n",
        "import argparse\n",
        "\n"
      ]
    },
    {
      "cell_type": "code",
      "source": [
        "#load libraries\n",
        "#mount drive to access data \n",
        "import os \n",
        "from google.colab import drive\n",
        "\n",
        "#I used my drive for the POC\n",
        "drive.mount('/content/drive',force_remount=True)"
      ],
      "metadata": {
        "id": "urf2qgmdrG9b",
        "colab": {
          "base_uri": "https://localhost:8080/"
        },
        "outputId": "16546f4b-ade9-4374-b683-021771923ede"
      },
      "execution_count": null,
      "outputs": [
        {
          "output_type": "stream",
          "name": "stdout",
          "text": [
            "Mounted at /content/drive\n"
          ]
        }
      ]
    },
    {
      "cell_type": "code",
      "execution_count": null,
      "metadata": {
        "colab": {
          "base_uri": "https://localhost:8080/"
        },
        "id": "W7OboXQpiZ1d",
        "outputId": "d08eea5d-23df-4cbc-b398-bfce5ce3cf1a"
      },
      "outputs": [
        {
          "output_type": "execute_result",
          "data": {
            "text/plain": [
              "['Output',\n",
              " 'Dataset',\n",
              " 'Raw Video',\n",
              " 'Raw Dataset',\n",
              " 'POC',\n",
              " 'image_metadata.csv',\n",
              " 'hp_output',\n",
              " 'my_dir',\n",
              " 'Dataset 2 Class']"
            ]
          },
          "metadata": {},
          "execution_count": 3
        }
      ],
      "source": [
        "#set directory\n",
        "os.chdir('/content/drive/MyDrive/Ocean_Infinity')\n",
        "os.listdir()\n",
        "\n",
        "#output is:\n",
        "#['Model',\n",
        "# 'Output',\n",
        "# 'Dataset',\n",
        "# 'Raw Video',\n",
        "# 'Raw Video Names.csv',\n",
        "# 'Raw Dataset']\n"
      ]
    },
    {
      "cell_type": "markdown",
      "metadata": {
        "id": "Xf6qZ5zyrTMy"
      },
      "source": [
        "#THIS SECTION DOES HYPERPARAMETER TUNING"
      ]
    },
    {
      "cell_type": "code",
      "source": [
        "import numpy as np\n",
        "import tensorflow as tf\n",
        "from tensorflow import keras"
      ],
      "metadata": {
        "id": "L98ozwGlqn3h"
      },
      "execution_count": null,
      "outputs": []
    },
    {
      "cell_type": "code",
      "execution_count": null,
      "metadata": {
        "id": "TGrFEESLrSaB"
      },
      "outputs": [],
      "source": [
        "output_dir = '/content/drive/MyDrive/Ocean_Infinity/Output/'\n",
        "model_1_subfolder = 'Model_1/'\n",
        "model = keras.models.load_model(output_dir+model_1_subfolder)"
      ]
    },
    {
      "cell_type": "code",
      "source": [
        "!pip install keras-tuner --upgrade"
      ],
      "metadata": {
        "id": "_4i1-S1prwdG"
      },
      "execution_count": null,
      "outputs": []
    },
    {
      "cell_type": "code",
      "execution_count": null,
      "metadata": {
        "id": "JTD0CxIvrSkH",
        "colab": {
          "base_uri": "https://localhost:8080/"
        },
        "outputId": "778030f2-3977-44c3-ca15-913a12dac072"
      },
      "outputs": [
        {
          "output_type": "stream",
          "name": "stderr",
          "text": [
            "/usr/local/lib/python3.7/dist-packages/ipykernel_launcher.py:1: DeprecationWarning: `import kerastuner` is deprecated, please use `import keras_tuner`.\n",
            "  \"\"\"Entry point for launching an IPython kernel.\n"
          ]
        }
      ],
      "source": [
        "from kerastuner.tuners import Hyperband\n",
        "from kerastuner.engine.hyperparameters import HyperParameters\n",
        "import keras_tuner as kt\n",
        "from tensorflow.keras.preprocessing.image import ImageDataGenerator\n"
      ]
    },
    {
      "cell_type": "code",
      "source": [
        "training_local_path = 'Dataset/train/'\n",
        "validation_local_path = 'Dataset/val/'\n",
        "\n",
        "datagen = ImageDataGenerator(rescale=1.0/255.0)\n",
        "img_width=224\n",
        "img_height=224\n",
        "batch_size = 50\n",
        "\n",
        "train_batches = datagen.flow_from_directory(training_local_path\n",
        "                                            ,class_mode='categorical'\n",
        "                                            #,batch_size = batch_size\n",
        "                                            ,target_size=(img_height, img_width))\n",
        "\n",
        "val_batches = datagen.flow_from_directory(validation_local_path\n",
        "                                          ,class_mode='categorical'\n",
        "                                          #,batch_size = batch_size\n",
        "                                          ,target_size=(img_height, img_width))\n",
        "\n",
        "#to show the description when predicting\n",
        "label_map = (train_batches.class_indices)\n",
        "class_num = len(label_map)\n"
      ],
      "metadata": {
        "colab": {
          "base_uri": "https://localhost:8080/"
        },
        "id": "zBmPqGiOtxWL",
        "outputId": "2db53dab-865c-4ef8-aaf9-878d72a6a892"
      },
      "execution_count": null,
      "outputs": [
        {
          "output_type": "stream",
          "name": "stdout",
          "text": [
            "Found 7070 images belonging to 5 classes.\n",
            "Found 2050 images belonging to 5 classes.\n"
          ]
        }
      ]
    },
    {
      "cell_type": "code",
      "source": [
        "X_train = train_batches[0][0]\n",
        "y_train = train_batches[0][1]\n",
        "X_val = val_batches[0][0]\n",
        "y_val = val_batches[0][1]"
      ],
      "metadata": {
        "id": "k4O3WYlRtxZR"
      },
      "execution_count": null,
      "outputs": []
    },
    {
      "cell_type": "code",
      "source": [
        "print('X_train shape:', X_train.shape)\n",
        "print('X_val shape:', X_val.shape)\n",
        "print('y_train shape:', y_train.shape)\n",
        "print('y_val shape:', y_val.shape)"
      ],
      "metadata": {
        "colab": {
          "base_uri": "https://localhost:8080/"
        },
        "id": "hDRjziGJX8Di",
        "outputId": "d94fe2e9-19c6-4f85-b80c-9d4031108875"
      },
      "execution_count": null,
      "outputs": [
        {
          "output_type": "stream",
          "name": "stdout",
          "text": [
            "X_train shape: (32, 224, 224, 3)\n",
            "X_val shape: (32, 224, 224, 3)\n",
            "y_train shape: (32, 5)\n",
            "y_val shape: (32, 5)\n"
          ]
        }
      ]
    },
    {
      "cell_type": "code",
      "source": [
        "def model_builder(hp):\n",
        "  hp_units = hp.Int('units', min_value=8, max_value=264, step=32)\n",
        "  hp_learning_rate = hp.Choice('learning_rate', values=[1e-2, 1e-3, 1e-4])\n",
        "  hp_activation = hp.Choice('activation', values=['relu','tanh'])\n",
        "  hp_dropout = hp.Choice('dropout', values=[0.2, 0.3, 0.4, 0.5])\n",
        "  #hp_pooling = hp.Choice('pooling',values=['MaxPooling2D','AveragePooling2D'])\n",
        " \n",
        "  model = keras.Sequential()\n",
        "  #input\n",
        "  model.add(Conv2D(11,(3,3),input_shape=(224,224,3)))\n",
        "  \n",
        "  for i in range(hp.Int(\"n_layers\",1,3)):\n",
        "    model.add(Conv2D(hp.Int(f\"layer_{i}_units\", min_value=64, max_value=264, step=32),(3,3)))\n",
        "    model.add(Activation(hp_activation))\n",
        "    #model.add(AveragePooling2D(pool_size=(2,2)))\n",
        "\n",
        "  model.add(Flatten())\n",
        "  model.add(Dense(5))\n",
        "  #model.add(Dropout(hp_dropout))\n",
        "  model.add(Activation(\"softmax\"))\n",
        "\n",
        "  model.compile(optimizer=keras.optimizers.Adam(learning_rate=hp_learning_rate),\n",
        "                loss=keras.losses.categorical_crossentropy,#(from_logits=True),\n",
        "                #loss=\"sparse_categorical_crossentropy\",\n",
        "                metrics=[\"accuracy\"#,\n",
        "                        #tf.keras.metrics.Precision(),\n",
        "                        #tf.keras.metrics.Recall()\n",
        "                        ]\n",
        "                )\n",
        "\n",
        "  return model\n"
      ],
      "metadata": {
        "id": "YrC4YhhOsNOl"
      },
      "execution_count": null,
      "outputs": []
    },
    {
      "cell_type": "code",
      "source": [
        "output_dir = '/content/drive/MyDrive/Ocean_Infinity/Output/'\n",
        "tuner = kt.Hyperband(model_builder,\n",
        "                     objective='val_accuracy',\n",
        "                     #executions_per_trial = 1,\n",
        "                     #max_epochs=10,\n",
        "                     factor=3,\n",
        "                     directory=output_dir,\n",
        "                     project_name='intro_to_kt_4')\n"
      ],
      "metadata": {
        "id": "XghftiVdtxQo"
      },
      "execution_count": null,
      "outputs": []
    },
    {
      "cell_type": "code",
      "source": [
        "stop_early = tf.keras.callbacks.EarlyStopping(monitor='val_accuracy', patience=3)\n",
        "\n",
        "tuner.search(x=X_train,\n",
        "             y=y_train,\n",
        "             epochs=10,\n",
        "             #batch_size = batch,\n",
        "             callbacks=[stop_early],\n",
        "             validation_data = (X_val, y_val),\n",
        "             validation_split=0.2        \n",
        "             )\n",
        "\n"
      ],
      "metadata": {
        "colab": {
          "base_uri": "https://localhost:8080/"
        },
        "id": "3B3CKYKqJlRC",
        "outputId": "e5ee1b02-bffd-4b5f-8341-20739230805f"
      },
      "execution_count": null,
      "outputs": [
        {
          "output_type": "stream",
          "name": "stdout",
          "text": [
            "Trial 4 Complete [00h 00m 42s]\n",
            "val_accuracy: 0.5\n",
            "\n",
            "Best val_accuracy So Far: 0.5\n",
            "Total elapsed time: 00h 06m 59s\n",
            "\n",
            "Search: Running Trial #5\n",
            "\n",
            "Value             |Best Value So Far |Hyperparameter\n",
            "136               |72                |units\n",
            "0.0001            |0.001             |learning_rate\n",
            "tanh              |tanh              |activation\n",
            "0.2               |0.2               |dropout\n",
            "3                 |2                 |n_layers\n",
            "224               |128               |layer_0_units\n",
            "256               |64                |layer_1_units\n",
            "2                 |2                 |tuner/epochs\n",
            "0                 |0                 |tuner/initial_epoch\n",
            "4                 |4                 |tuner/bracket\n",
            "0                 |0                 |tuner/round\n",
            "\n",
            "Epoch 1/2\n"
          ]
        },
        {
          "output_type": "stream",
          "name": "stderr",
          "text": [
            "WARNING:tensorflow:5 out of the last 9 calls to <function Model.make_train_function.<locals>.train_function at 0x7fc780224b90> triggered tf.function retracing. Tracing is expensive and the excessive number of tracings could be due to (1) creating @tf.function repeatedly in a loop, (2) passing tensors with different shapes, (3) passing Python objects instead of tensors. For (1), please define your @tf.function outside of the loop. For (2), @tf.function has reduce_retracing=True option that can avoid unnecessary retracing. For (3), please refer to https://www.tensorflow.org/guide/function#controlling_retracing and https://www.tensorflow.org/api_docs/python/tf/function for  more details.\n"
          ]
        },
        {
          "output_type": "stream",
          "name": "stdout",
          "text": [
            "\r1/1 [==============================] - ETA: 0s - loss: 1.6140 - accuracy: 0.2500"
          ]
        },
        {
          "output_type": "stream",
          "name": "stderr",
          "text": [
            "WARNING:tensorflow:5 out of the last 9 calls to <function Model.make_test_function.<locals>.test_function at 0x7fc780278d40> triggered tf.function retracing. Tracing is expensive and the excessive number of tracings could be due to (1) creating @tf.function repeatedly in a loop, (2) passing tensors with different shapes, (3) passing Python objects instead of tensors. For (1), please define your @tf.function outside of the loop. For (2), @tf.function has reduce_retracing=True option that can avoid unnecessary retracing. For (3), please refer to https://www.tensorflow.org/guide/function#controlling_retracing and https://www.tensorflow.org/api_docs/python/tf/function for  more details.\n"
          ]
        },
        {
          "output_type": "stream",
          "name": "stdout",
          "text": [
            "\b\b\b\b\b\b\b\b\b\b\b\b\b\b\b\b\b\b\b\b\b\b\b\b\b\b\b\b\b\b\b\b\b\b\b\b\b\b\b\b\b\b\b\b\b\b\b\b\b\b\b\b\b\b\b\b\b\b\b\b\b\b\b\b\b\b\b\b\b\b\b\b\b\b\b\b\b\b\b\b\r1/1 [==============================] - 161s 161s/step - loss: 1.6140 - accuracy: 0.2500 - val_loss: 8.1531 - val_accuracy: 0.3750\n",
            "Epoch 2/2\n",
            "1/1 [==============================] - ETA: 0s - loss: 5.8903 - accuracy: 0.5000"
          ]
        }
      ]
    },
    {
      "cell_type": "code",
      "source": [
        "tuner.get_best_hyperparameters()[0].values"
      ],
      "metadata": {
        "id": "XrG0s44rJlTr"
      },
      "execution_count": null,
      "outputs": []
    }
  ],
  "metadata": {
    "accelerator": "TPU",
    "colab": {
      "collapsed_sections": [
        "Z_R43VQK4bql",
        "0KK9dC84Ex2d",
        "uRZP8YroFm5j",
        "3q0ZCVf8OLgL",
        "vwmmRsz_1dPe"
      ],
      "provenance": [],
      "authorship_tag": "ABX9TyNG2FSywNiXLfGo2rS4K0bG",
      "include_colab_link": true
    },
    "gpuClass": "standard",
    "kernelspec": {
      "display_name": "Python 3",
      "name": "python3"
    },
    "language_info": {
      "name": "python"
    }
  },
  "nbformat": 4,
  "nbformat_minor": 0
}